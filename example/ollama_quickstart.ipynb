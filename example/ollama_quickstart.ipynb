{
 "cells": [
  {
   "cell_type": "markdown",
   "id": "d739a962",
   "metadata": {},
   "source": [
    "# Ollama\n",
    "\n",
    "## Rodando o hello world"
   ]
  },
  {
   "cell_type": "code",
   "execution_count": 1,
   "id": "b8aec6ae",
   "metadata": {},
   "outputs": [
    {
     "name": "stdout",
     "output_type": "stream",
     "text": [
      "A bandeira do Brasil é verde, amarela e azul. \n",
      "\n",
      "A cor verde representa a natureza, a esperança e o crescimento. A cor amarela simboliza o sol, a alegria e a vitalidade. E a cor azul representa o céu e o infinito.\n",
      "\n",
      "É importante notar que a disposição dessas cores é estratégica, criando um padrão que lembra a folha doação do hino nacional.\n",
      "\n",
      "Espero que isso ajude! 😊\n",
      "A bandeira do Brasil é verde, amarela e azul. \n",
      "\n",
      "A cor verde representa a natureza, a esperança e o crescimento. A cor amarela simboliza o sol, a alegria e a vitalidade. E a cor azul representa o céu e o infinito.\n",
      "\n",
      "É importante notar que a disposição dessas cores é estratégica, criando um padrão que lembra a folha doação do hino nacional.\n",
      "\n",
      "Espero que isso ajude! 😊\n"
     ]
    }
   ],
   "source": [
    "from ollama import chat\n",
    "from ollama import ChatResponse\n",
    "\n",
    "response: ChatResponse = chat(model='gemma3:1b', messages=[\n",
    "  {\n",
    "    'role': 'user',\n",
    "    'content': 'Qual a cor da bandeira do Brasil?',\n",
    "  },\n",
    "])\n",
    "print(response['message']['content'])"
   ]
  },
  {
   "cell_type": "markdown",
   "id": "3f2b68de",
   "metadata": {},
   "source": [
    "## Resposta que vem com stream"
   ]
  },
  {
   "cell_type": "code",
   "execution_count": 4,
   "id": "7dc9dae7",
   "metadata": {},
   "outputs": [
    {
     "name": "stdout",
     "output_type": "stream",
     "text": [
      "Ayrton Senna foi campeão da Fórmula 1 3 vezes:\n",
      "\n",
      "1.  **1958** (Com a equipe Blomo, na Itália)\n",
      "2.  **1960** (Com a equipe Toleman, na França)\n",
      "3.  **1963** (Com a equipe Lotus, na Inglaterra)\n",
      "\n",
      "Ele também conquistou 5 títulos de Campeonato Mundial da Fórmula 1.\n",
      "\n",
      "É importante notar que, embora tenha conquistado o título em 1963, ele venceu a temporada de 1964 com uma vitória em cada corrida e perdeu apenas 1 corrida, o que o coloca em uma posição de destaque na história da Fórmula 1."
     ]
    }
   ],
   "source": [
    "from ollama import chat\n",
    "\n",
    "stream = chat(\n",
    "    model='gemma3:1b',\n",
    "    messages=[{'role': 'user', 'content': 'Quantas vezes ayrton senna foi campeão da f1?'}],\n",
    "    stream=True,\n",
    ")\n",
    "\n",
    "for chunk in stream:\n",
    "  print(chunk['message']['content'], end='', flush=True)"
   ]
  },
  {
   "cell_type": "markdown",
   "id": "874593eb",
   "metadata": {},
   "source": [
    "## Resposta com async"
   ]
  },
  {
   "cell_type": "code",
   "execution_count": 11,
   "id": "5f1c5383",
   "metadata": {},
   "outputs": [],
   "source": [
    "import asyncio\n",
    "from ollama import AsyncClient\n",
    "\n",
    "async def chat():\n",
    "  message = {'role': 'user', 'content': 'Quanto é raíz quadrada de 144?'}\n",
    "  response = await AsyncClient().chat(model='gemma3:1b', messages=[message])\n",
    "\n",
    "# asyncio.run(chat()) para rodar em arquivos .py\n",
    "await chat() # para rodar em notebooks"
   ]
  },
  {
   "cell_type": "code",
   "execution_count": 12,
   "id": "a54e0a2f",
   "metadata": {},
   "outputs": [
    {
     "data": {
      "text/plain": [
       "'A bandeira do Brasil é verde, amarela e azul. \\n\\nA cor verde representa a natureza, a esperança e o crescimento. A cor amarela simboliza o sol, a alegria e a vitalidade. E a cor azul representa o céu e o infinito.\\n\\nÉ importante notar que a disposição dessas cores é estratégica, criando um padrão que lembra a folha doação do hino nacional.\\n\\nEspero que isso ajude! 😊'"
      ]
     },
     "execution_count": 12,
     "metadata": {},
     "output_type": "execute_result"
    }
   ],
   "source": [
    "response.message.content"
   ]
  },
  {
   "cell_type": "markdown",
   "id": "15a2876f",
   "metadata": {},
   "source": [
    "## Async e com stream"
   ]
  },
  {
   "cell_type": "code",
   "execution_count": 16,
   "id": "84dad899",
   "metadata": {},
   "outputs": [
    {
     "name": "stdout",
     "output_type": "stream",
     "text": [
      "A raiz quadrada de 144 é 12.\n",
      "\n",
      "Isso porque 12 * 12 = 144"
     ]
    }
   ],
   "source": [
    "import asyncio\n",
    "from ollama import AsyncClient\n",
    "\n",
    "async def chat():\n",
    "  message = {'role': 'user', 'content': 'Quem é a raíz quadrada de 144??'}\n",
    "  async for part in await AsyncClient().chat(model='gemma3:1b', messages=[message], stream=True):\n",
    "    print(part['message']['content'], end='', flush=True)\n",
    "\n",
    "# asyncio.run(chat()) para rodar em arquivos .py\n",
    "await chat() # para rodar em notebooks"
   ]
  }
 ],
 "metadata": {
  "kernelspec": {
   "display_name": "llm-engineering (3.12.3)",
   "language": "python",
   "name": "python3"
  },
  "language_info": {
   "codemirror_mode": {
    "name": "ipython",
    "version": 3
   },
   "file_extension": ".py",
   "mimetype": "text/x-python",
   "name": "python",
   "nbconvert_exporter": "python",
   "pygments_lexer": "ipython3",
   "version": "3.12.3"
  }
 },
 "nbformat": 4,
 "nbformat_minor": 5
}
